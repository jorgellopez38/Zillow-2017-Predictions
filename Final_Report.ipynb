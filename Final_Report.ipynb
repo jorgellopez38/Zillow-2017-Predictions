{
 "cells": [
  {
   "cell_type": "markdown",
   "id": "3378924e",
   "metadata": {},
   "source": [
    "# Zillow 2017 Predictions\n",
    "<br>\n",
    "\n",
    "### Project Goals  \n",
    "- Discover drivers of Single Family home value for Zillow in 2017.\n",
    "- Use drivers to develop a machine learning model that accurately predicts home value\n",
    "- This information could be used for furture years in helping Zillow achieve max profit"
   ]
  },
  {
   "cell_type": "code",
   "execution_count": 3,
   "id": "6328a464",
   "metadata": {},
   "outputs": [],
   "source": [
    "# Data science imports\n",
    "import pandas as pd\n",
    "import numpy as np\n",
    "import matplotlib.pyplot as plt\n",
    "import seaborn as sns\n",
    "import plotly.express as px\n",
    "# Statistical/mathmatical imports\n",
    "from scipy import stats\n",
    "from scipy.stats import pearsonr, spearmanr\n",
    "from sklearn.model_selection import train_test_split\n",
    "from math import sqrt\n",
    "# ML imports\n",
    "from sklearn.linear_model import LinearRegression, LassoLars, TweedieRegressor\n",
    "from sklearn.metrics import mean_squared_error, r2_score, explained_variance_score\n",
    "from sklearn.preprocessing import MinMaxScaler, PolynomialFeatures\n",
    "from sklearn.preprocessing import StandardScaler, RobustScaler, QuantileTransformer\n",
    "from sklearn.feature_selection import SelectKBest, f_regression, RFE\n",
    "# Premade functions\n",
    "from acquire import get_zillow_data\n",
    "from wrangle import wrangle_zillow\n",
    "from wrangle import scale_data\n",
    "#Removes big scary warnings\n",
    "import warnings\n",
    "warnings.filterwarnings('ignore')"
   ]
  },
  {
   "cell_type": "markdown",
   "id": "47e88d3c",
   "metadata": {},
   "source": [
    "# Acquire\n",
    "<BR>\n",
    "\n",
    "- Data aquired from SQL zillow database  \n",
    "- It contained 52441 rows and 6 columns before cleaning  \n",
    "- Each row represents a house in 2017   \n",
    "- Each column represents a feature associated with the house  "
   ]
  },
  {
   "cell_type": "code",
   "execution_count": null,
   "id": "8388d281",
   "metadata": {},
   "outputs": [],
   "source": [
    "# Use acquire function to import messy data\n",
    "df = get_zillow_data()\n",
    "# Lets take a peak\n",
    "df.head(1)"
   ]
  },
  {
   "cell_type": "markdown",
   "id": "4926d701",
   "metadata": {},
   "source": [
    "# Prepare\n",
    "<BR>\n",
    "\n",
    "- Renamed colums to read easier on the eyes  \n",
    "- Checked for nulls in the data and dropped said nulls  \n",
    "- Checked that column data types were appropriate and had to change as necessary  \n",
    "- Got rid of major outliers that skewed the data \n",
    "- Split data into train, validate and test, stratifying on 'tax_value'  "
   ]
  },
  {
   "cell_type": "code",
   "execution_count": null,
   "id": "79be220c",
   "metadata": {},
   "outputs": [],
   "source": [
    "# Use prepare function to clean data \n",
    "df = prep_zillow()\n",
    "# Quick peak into the cleaned data\n",
    "df.head(1)"
   ]
  },
  {
   "cell_type": "markdown",
   "id": "7649a0a1",
   "metadata": {},
   "source": [
    "# Data Dictionary\n",
    "<br>\n",
    "\n",
    "- This will help with any questions or information on this dataset"
   ]
  },
  {
   "cell_type": "markdown",
   "id": "f75ff490",
   "metadata": {},
   "source": [
    "| Feature | Definition |\n",
    "|:--------|:-----------|\n",
    "|bedroomcnt|Specifies the number of bedrooms in the home|\n",
    "|bathroomcnt|Specifies the number of bathrooms in the home|\n",
    "|calculatedfinishedsquarefeet|Specifies the total finished square footage of the home|\n",
    "|taxvaluedollarcnt|The total tax assessed value of the parcel|\n",
    "|lotsizesquarefeet|Specifies total square footage of lot the home sits on|\n",
    "|yearbuilt|Year that the home was built|\n"
   ]
  },
  {
   "cell_type": "markdown",
   "id": "c60c917b",
   "metadata": {},
   "source": [
    "# Split data into train/validate/test sample dataframes\n",
    "<br>\n",
    "\n",
    "- 20% test, 80% train_validate  \n",
    "- Then of the 80% train_validate: 30% validate, 70% train    "
   ]
  },
  {
   "cell_type": "code",
   "execution_count": null,
   "id": "398487b0",
   "metadata": {},
   "outputs": [],
   "source": [
    "# splitting data into train, validate, and test\n",
    "train, val, test = wrangle_zillow()\n",
    "# lets show the train data\n",
    "train.head()"
   ]
  },
  {
   "cell_type": "markdown",
   "id": "6be3eb98",
   "metadata": {},
   "source": [
    "# Exploration\n",
    "<br>\n",
    "\n",
    "- \n",
    "- \n",
    "-  "
   ]
  },
  {
   "cell_type": "markdown",
   "id": "75129ad1",
   "metadata": {},
   "source": [
    "### question 1"
   ]
  },
  {
   "cell_type": "code",
   "execution_count": null,
   "id": "8a274acb",
   "metadata": {},
   "outputs": [],
   "source": [
    "# function for visual 1\n",
    "# make sure to print out reject or fail to reject print statement"
   ]
  },
  {
   "cell_type": "markdown",
   "id": "cb75e033",
   "metadata": {},
   "source": [
    "#### My takeaway from this is that   \n",
    "<br>\n",
    "\n",
    "For this question, there are two continuous variables at hand so a a pearsonr test seems appropiate to determine if there is a relationship.  \n",
    "<br>\n",
    "\n",
    "$H_o$ (Null Hypothesis): is that there is no linear correlation\n",
    "\n",
    "$H_a$ (Alternative Hypothesis): There is a linear correlation between   "
   ]
  },
  {
   "cell_type": "markdown",
   "id": "090f1d36",
   "metadata": {},
   "source": [
    "### question 2"
   ]
  },
  {
   "cell_type": "code",
   "execution_count": null,
   "id": "65f5bf85",
   "metadata": {},
   "outputs": [],
   "source": [
    "# function for visual 2\n",
    "# make sure to print out reject or fail to reject print statement"
   ]
  },
  {
   "cell_type": "markdown",
   "id": "396ced48",
   "metadata": {},
   "source": [
    "#### My takeaway from this is that   \n",
    "<br>\n",
    "\n",
    "For this question, there are two continuous variables at hand so a a pearsonr test seems appropiate to determine if there is a relationship.  \n",
    "<br>\n",
    "\n",
    "$H_o$ (Null Hypothesis): is that there is no linear correlation\n",
    "\n",
    "$H_a$ (Alternative Hypothesis): There is a linear correlation between  "
   ]
  },
  {
   "cell_type": "markdown",
   "id": "02a700c4",
   "metadata": {},
   "source": [
    "### question 3"
   ]
  },
  {
   "cell_type": "code",
   "execution_count": null,
   "id": "bac67e30",
   "metadata": {},
   "outputs": [],
   "source": [
    "# function for visual 3\n",
    "# make sure to print out reject or fail to reject print statement"
   ]
  },
  {
   "cell_type": "markdown",
   "id": "f467194c",
   "metadata": {},
   "source": [
    "#### My takeaway from this is that   \n",
    "<br>\n",
    "\n",
    "For this question, there are two continuous variables at hand so a a pearsonr test seems appropiate to determine if there is a relationship.  \n",
    "<br>\n",
    "\n",
    "$H_o$ (Null Hypothesis): is that there is no linear correlation\n",
    "\n",
    "$H_a$ (Alternative Hypothesis): There is a linear correlation between  "
   ]
  },
  {
   "cell_type": "markdown",
   "id": "bbee33b3",
   "metadata": {},
   "source": [
    "# Exploration Summary\n",
    "<br>\n",
    "\n",
    "- \n",
    "- \n",
    "- \n"
   ]
  },
  {
   "cell_type": "markdown",
   "id": "e0852780",
   "metadata": {},
   "source": [
    "# Modeling\n",
    "<br>\n",
    "\n",
    "- \n",
    "-\n",
    "- "
   ]
  },
  {
   "cell_type": "code",
   "execution_count": null,
   "id": "666f4d11",
   "metadata": {},
   "outputs": [],
   "source": []
  },
  {
   "cell_type": "code",
   "execution_count": null,
   "id": "4c648df3",
   "metadata": {},
   "outputs": [],
   "source": []
  },
  {
   "cell_type": "markdown",
   "id": "80b50f7f",
   "metadata": {},
   "source": [
    "### Test Model  \n",
    "<br>\n",
    "\n",
    "- I am choosing the   \n",
    "- I will now run my model on the test data to gauge how it will perform on unseen data."
   ]
  },
  {
   "cell_type": "code",
   "execution_count": null,
   "id": "f0aee3d4",
   "metadata": {},
   "outputs": [],
   "source": []
  },
  {
   "cell_type": "markdown",
   "id": "738902b9",
   "metadata": {},
   "source": [
    "### Modeling Wrap\n",
    "<br>\n",
    "\n",
    "- Test score outperforms the baseline and I would reccomend this model for production, as it beat the baseline by %\n"
   ]
  },
  {
   "cell_type": "markdown",
   "id": "bef43719",
   "metadata": {},
   "source": [
    "# Conclusion\n",
    "<br>\n",
    "\n",
    "### Summary\n",
    "<br>\n",
    "\n",
    "- \n",
    "- \n",
    "- \n",
    "- "
   ]
  },
  {
   "cell_type": "markdown",
   "id": "778537b5",
   "metadata": {},
   "source": [
    "### Recommendations\n",
    "<br>\n",
    "\n",
    "-  \n",
    "-   \n",
    "-   "
   ]
  },
  {
   "cell_type": "markdown",
   "id": "2cd443df",
   "metadata": {},
   "source": [
    "### Next Steps\n",
    "<br>\n",
    "\n",
    "- If provided more time to work on this project I would "
   ]
  },
  {
   "cell_type": "code",
   "execution_count": null,
   "id": "f48270f1",
   "metadata": {},
   "outputs": [],
   "source": []
  }
 ],
 "metadata": {
  "kernelspec": {
   "display_name": "Python 3 (ipykernel)",
   "language": "python",
   "name": "python3"
  },
  "language_info": {
   "codemirror_mode": {
    "name": "ipython",
    "version": 3
   },
   "file_extension": ".py",
   "mimetype": "text/x-python",
   "name": "python",
   "nbconvert_exporter": "python",
   "pygments_lexer": "ipython3",
   "version": "3.9.13"
  }
 },
 "nbformat": 4,
 "nbformat_minor": 5
}

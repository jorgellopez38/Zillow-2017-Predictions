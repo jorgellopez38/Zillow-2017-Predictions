{
 "cells": [
  {
   "cell_type": "markdown",
   "id": "e79e8642",
   "metadata": {},
   "source": [
    "# Zillow 2017 Predictions\n",
    "<br>\n",
    "\n",
    "### Project Goals  \n",
    "- Discover drivers of Single Family home value for Zillow in 2017.\n",
    "- Use drivers to develop a machine learning model that accurately predicts home value\n",
    "- This information could be used for furture years in helping Zillow achieve max profit"
   ]
  },
  {
   "cell_type": "code",
   "execution_count": 1,
   "id": "0772b433",
   "metadata": {},
   "outputs": [],
   "source": [
    "# Data science imports\n",
    "import pandas as pd\n",
    "import numpy as np\n",
    "import matplotlib.pyplot as plt\n",
    "import seaborn as sns\n",
    "import plotly.express as px\n",
    "# Statistical/mathmatical imports\n",
    "from scipy import stats\n",
    "from scipy.stats import pearsonr, spearmanr\n",
    "from sklearn.model_selection import train_test_split\n",
    "from math import sqrt\n",
    "# ML imports\n",
    "from sklearn.linear_model import LinearRegression, LassoLars, TweedieRegressor\n",
    "from sklearn.metrics import mean_squared_error, r2_score, explained_variance_score\n",
    "from sklearn.preprocessing import MinMaxScaler, PolynomialFeatures\n",
    "from sklearn.preprocessing import StandardScaler, RobustScaler, QuantileTransformer\n",
    "from sklearn.feature_selection import SelectKBest, f_regression, RFE\n",
    "# Premade functions\n",
    "import acquire as a\n",
    "import wrangle as w\n",
    "#Removes big scary warnings\n",
    "import warnings\n",
    "warnings.filterwarnings('ignore')"
   ]
  },
  {
   "cell_type": "markdown",
   "id": "765ee2ec",
   "metadata": {},
   "source": [
    "# Acquire <br>\n",
    "- Data aquired from SQL zillow database  \n",
    "- It contained 52441 rows and 6 columns before cleaning  \n",
    "- Each row represents a house in 2017 \n",
    "- Each column represents a feature associated with the house  "
   ]
  },
  {
   "cell_type": "code",
   "execution_count": 3,
   "id": "1ed9ce7a",
   "metadata": {},
   "outputs": [
    {
     "data": {
      "text/html": [
       "<div>\n",
       "<style scoped>\n",
       "    .dataframe tbody tr th:only-of-type {\n",
       "        vertical-align: middle;\n",
       "    }\n",
       "\n",
       "    .dataframe tbody tr th {\n",
       "        vertical-align: top;\n",
       "    }\n",
       "\n",
       "    .dataframe thead th {\n",
       "        text-align: right;\n",
       "    }\n",
       "</style>\n",
       "<table border=\"1\" class=\"dataframe\">\n",
       "  <thead>\n",
       "    <tr style=\"text-align: right;\">\n",
       "      <th></th>\n",
       "      <th>bedroomcnt</th>\n",
       "      <th>bathroomcnt</th>\n",
       "      <th>calculatedfinishedsquarefeet</th>\n",
       "      <th>taxvaluedollarcnt</th>\n",
       "      <th>lotsizesquarefeet</th>\n",
       "      <th>yearbuilt</th>\n",
       "    </tr>\n",
       "  </thead>\n",
       "  <tbody>\n",
       "    <tr>\n",
       "      <th>0</th>\n",
       "      <td>5.0</td>\n",
       "      <td>4.0</td>\n",
       "      <td>2148.0</td>\n",
       "      <td>165392.0</td>\n",
       "      <td>10408.0</td>\n",
       "      <td>1976.0</td>\n",
       "    </tr>\n",
       "  </tbody>\n",
       "</table>\n",
       "</div>"
      ],
      "text/plain": [
       "   bedroomcnt  bathroomcnt  calculatedfinishedsquarefeet  taxvaluedollarcnt  \\\n",
       "0         5.0          4.0                        2148.0           165392.0   \n",
       "\n",
       "   lotsizesquarefeet  yearbuilt  \n",
       "0            10408.0     1976.0  "
      ]
     },
     "execution_count": 3,
     "metadata": {},
     "output_type": "execute_result"
    }
   ],
   "source": [
    "# Use acquire function to import messy data\n",
    "df = a.get_zillow_data()\n",
    "# Lets take a peak\n",
    "df.head(1)"
   ]
  },
  {
   "cell_type": "markdown",
   "id": "6db06251",
   "metadata": {},
   "source": [
    "# Prepare <br>\n",
    "- Renamed colums to read easier on the eyes  \n",
    "- Checked for nulls in the data and dropped said nulls  \n",
    "- Checked that column data types were appropriate and had to change as necessary  \n",
    "- Got rid of major outliers that skewed the data \n",
    "- Split data into train, validate and test, stratifying on 'tax_value'  "
   ]
  },
  {
   "cell_type": "code",
   "execution_count": 4,
   "id": "3ad91014",
   "metadata": {},
   "outputs": [
    {
     "data": {
      "text/html": [
       "<div>\n",
       "<style scoped>\n",
       "    .dataframe tbody tr th:only-of-type {\n",
       "        vertical-align: middle;\n",
       "    }\n",
       "\n",
       "    .dataframe tbody tr th {\n",
       "        vertical-align: top;\n",
       "    }\n",
       "\n",
       "    .dataframe thead th {\n",
       "        text-align: right;\n",
       "    }\n",
       "</style>\n",
       "<table border=\"1\" class=\"dataframe\">\n",
       "  <thead>\n",
       "    <tr style=\"text-align: right;\">\n",
       "      <th></th>\n",
       "      <th>bedrooms</th>\n",
       "      <th>bathrooms</th>\n",
       "      <th>house_sqft</th>\n",
       "      <th>tax_value</th>\n",
       "      <th>lot_size_sqft</th>\n",
       "      <th>year_built</th>\n",
       "    </tr>\n",
       "  </thead>\n",
       "  <tbody>\n",
       "    <tr>\n",
       "      <th>0</th>\n",
       "      <td>5</td>\n",
       "      <td>4.0</td>\n",
       "      <td>2148</td>\n",
       "      <td>165392</td>\n",
       "      <td>10408</td>\n",
       "      <td>1976</td>\n",
       "    </tr>\n",
       "  </tbody>\n",
       "</table>\n",
       "</div>"
      ],
      "text/plain": [
       "   bedrooms  bathrooms  house_sqft  tax_value  lot_size_sqft  year_built\n",
       "0         5        4.0        2148     165392          10408        1976"
      ]
     },
     "execution_count": 4,
     "metadata": {},
     "output_type": "execute_result"
    }
   ],
   "source": [
    "# Use prepare function to clean data \n",
    "df = w.prep_zillow(df)\n",
    "# Quick peak into the cleaned data\n",
    "df.head(1)"
   ]
  },
  {
   "cell_type": "markdown",
   "id": "a300fae7",
   "metadata": {},
   "source": [
    "# Data Dictionary\n",
    "<br>\n",
    "\n",
    "- This will help with any questions or information on this dataset"
   ]
  },
  {
   "cell_type": "markdown",
   "id": "b3cbeec7",
   "metadata": {},
   "source": [
    "| Feature | Definition |\n",
    "|:--------|:-----------|\n",
    "|bedroomcnt|Specifies the number of bedrooms in the home|\n",
    "|bathroomcnt|Specifies the number of bathrooms in the home|\n",
    "|calculatedfinishedsquarefeet|Specifies the total finished square footage of the home|\n",
    "|taxvaluedollarcnt|The total tax assessed value of the parcel|\n",
    "|lotsizesquarefeet|Specifies total square footage of lot the home sits on|\n",
    "|yearbuilt|Year that the home was built|\n"
   ]
  },
  {
   "cell_type": "markdown",
   "id": "e5b9385d",
   "metadata": {},
   "source": [
    "# Split data into train/validate/test sample dataframes\n",
    "<br>\n",
    "\n",
    "- 20% test, 80% train_validate  \n",
    "- Then of the 80% train_validate: 30% validate, 70% train    "
   ]
  },
  {
   "cell_type": "code",
   "execution_count": 6,
   "id": "338bd19c",
   "metadata": {},
   "outputs": [
    {
     "data": {
      "text/html": [
       "<div>\n",
       "<style scoped>\n",
       "    .dataframe tbody tr th:only-of-type {\n",
       "        vertical-align: middle;\n",
       "    }\n",
       "\n",
       "    .dataframe tbody tr th {\n",
       "        vertical-align: top;\n",
       "    }\n",
       "\n",
       "    .dataframe thead th {\n",
       "        text-align: right;\n",
       "    }\n",
       "</style>\n",
       "<table border=\"1\" class=\"dataframe\">\n",
       "  <thead>\n",
       "    <tr style=\"text-align: right;\">\n",
       "      <th></th>\n",
       "      <th>bedrooms</th>\n",
       "      <th>bathrooms</th>\n",
       "      <th>house_sqft</th>\n",
       "      <th>tax_value</th>\n",
       "      <th>lot_size_sqft</th>\n",
       "      <th>year_built</th>\n",
       "    </tr>\n",
       "  </thead>\n",
       "  <tbody>\n",
       "    <tr>\n",
       "      <th>31949</th>\n",
       "      <td>3</td>\n",
       "      <td>2.0</td>\n",
       "      <td>1404</td>\n",
       "      <td>176411</td>\n",
       "      <td>7704</td>\n",
       "      <td>1957</td>\n",
       "    </tr>\n",
       "    <tr>\n",
       "      <th>51617</th>\n",
       "      <td>3</td>\n",
       "      <td>2.0</td>\n",
       "      <td>1456</td>\n",
       "      <td>72444</td>\n",
       "      <td>5369</td>\n",
       "      <td>1954</td>\n",
       "    </tr>\n",
       "    <tr>\n",
       "      <th>42382</th>\n",
       "      <td>3</td>\n",
       "      <td>1.0</td>\n",
       "      <td>1055</td>\n",
       "      <td>64630</td>\n",
       "      <td>6550</td>\n",
       "      <td>1953</td>\n",
       "    </tr>\n",
       "  </tbody>\n",
       "</table>\n",
       "</div>"
      ],
      "text/plain": [
       "       bedrooms  bathrooms  house_sqft  tax_value  lot_size_sqft  year_built\n",
       "31949         3        2.0        1404     176411           7704        1957\n",
       "51617         3        2.0        1456      72444           5369        1954\n",
       "42382         3        1.0        1055      64630           6550        1953"
      ]
     },
     "execution_count": 6,
     "metadata": {},
     "output_type": "execute_result"
    }
   ],
   "source": [
    "# splitting data into train, validate, and test\n",
    "train, validate, test = w.split_zillow(df)\n",
    "# lets show some train data\n",
    "train.head(3)"
   ]
  },
  {
   "cell_type": "markdown",
   "id": "5b71c365",
   "metadata": {},
   "source": [
    "# Exploration\n",
    "<br>\n",
    "\n",
    "- \n",
    "- \n",
    "-  "
   ]
  },
  {
   "cell_type": "markdown",
   "id": "a6a41588",
   "metadata": {},
   "source": [
    "### question 1"
   ]
  },
  {
   "cell_type": "code",
   "execution_count": null,
   "id": "1725da76",
   "metadata": {},
   "outputs": [],
   "source": [
    "# function for visual 1\n",
    "# make sure to print out reject or fail to reject print statement"
   ]
  },
  {
   "cell_type": "markdown",
   "id": "f7f27f11",
   "metadata": {},
   "source": [
    "#### My takeaway from this is that   \n",
    "<br>\n",
    "\n",
    "For this question, there are two continuous variables at hand so a a pearsonr test seems appropiate to determine if there is a relationship.  \n",
    "<br>\n",
    "\n",
    "$H_o$ (Null Hypothesis): is that there is no linear correlation\n",
    "\n",
    "$H_a$ (Alternative Hypothesis): There is a linear correlation between   "
   ]
  },
  {
   "cell_type": "markdown",
   "id": "7d45d372",
   "metadata": {},
   "source": [
    "### question 2"
   ]
  },
  {
   "cell_type": "code",
   "execution_count": null,
   "id": "f1a6e902",
   "metadata": {},
   "outputs": [],
   "source": [
    "# function for visual 2\n",
    "# make sure to print out reject or fail to reject print statement"
   ]
  },
  {
   "cell_type": "markdown",
   "id": "05aa054b",
   "metadata": {},
   "source": [
    "#### My takeaway from this is that   \n",
    "<br>\n",
    "\n",
    "For this question, there are two continuous variables at hand so a a pearsonr test seems appropiate to determine if there is a relationship.  \n",
    "<br>\n",
    "\n",
    "$H_o$ (Null Hypothesis): is that there is no linear correlation\n",
    "\n",
    "$H_a$ (Alternative Hypothesis): There is a linear correlation between  "
   ]
  },
  {
   "cell_type": "markdown",
   "id": "95faf48c",
   "metadata": {},
   "source": [
    "### question 3"
   ]
  },
  {
   "cell_type": "code",
   "execution_count": null,
   "id": "f5d70221",
   "metadata": {},
   "outputs": [],
   "source": [
    "# function for visual 3\n",
    "# make sure to print out reject or fail to reject print statement"
   ]
  },
  {
   "cell_type": "markdown",
   "id": "d7ebdfbe",
   "metadata": {},
   "source": [
    "#### My takeaway from this is that   \n",
    "<br>\n",
    "\n",
    "For this question, there are two continuous variables at hand so a a pearsonr test seems appropiate to determine if there is a relationship.  \n",
    "<br>\n",
    "\n",
    "$H_o$ (Null Hypothesis): is that there is no linear correlation\n",
    "\n",
    "$H_a$ (Alternative Hypothesis): There is a linear correlation between  "
   ]
  },
  {
   "cell_type": "markdown",
   "id": "f27debc9",
   "metadata": {},
   "source": [
    "# Exploration Summary\n",
    "<br>\n",
    "\n",
    "- \n",
    "- \n",
    "- \n"
   ]
  },
  {
   "cell_type": "markdown",
   "id": "6cf6e20d",
   "metadata": {},
   "source": [
    "# Modeling\n",
    "<br>\n",
    "\n",
    "- \n",
    "-\n",
    "- "
   ]
  },
  {
   "cell_type": "code",
   "execution_count": null,
   "id": "ca5c2234",
   "metadata": {},
   "outputs": [],
   "source": []
  },
  {
   "cell_type": "code",
   "execution_count": null,
   "id": "751845dd",
   "metadata": {},
   "outputs": [],
   "source": []
  },
  {
   "cell_type": "markdown",
   "id": "a6e3fe28",
   "metadata": {},
   "source": [
    "### Test Model  \n",
    "<br>\n",
    "\n",
    "- I am choosing the   \n",
    "- I will now run my model on the test data to gauge how it will perform on unseen data."
   ]
  },
  {
   "cell_type": "code",
   "execution_count": null,
   "id": "ccbe84d6",
   "metadata": {},
   "outputs": [],
   "source": []
  },
  {
   "cell_type": "markdown",
   "id": "8e1c430c",
   "metadata": {},
   "source": [
    "### Modeling Wrap\n",
    "<br>\n",
    "\n",
    "- Test score outperforms the baseline and I would reccomend this model for production, as it beat the baseline by %\n"
   ]
  },
  {
   "cell_type": "markdown",
   "id": "d95dbb64",
   "metadata": {},
   "source": [
    "# Conclusion\n",
    "<br>\n",
    "\n",
    "### Summary\n",
    "<br>\n",
    "\n",
    "- \n",
    "- \n",
    "- \n",
    "- "
   ]
  },
  {
   "cell_type": "markdown",
   "id": "296cab91",
   "metadata": {},
   "source": [
    "### Recommendations\n",
    "<br>\n",
    "\n",
    "-  \n",
    "-   \n",
    "-   "
   ]
  },
  {
   "cell_type": "markdown",
   "id": "adf9372d",
   "metadata": {},
   "source": [
    "### Next Steps\n",
    "<br>\n",
    "\n",
    "- If provided more time to work on this project I would "
   ]
  }
 ],
 "metadata": {
  "kernelspec": {
   "display_name": "Python 3 (ipykernel)",
   "language": "python",
   "name": "python3"
  },
  "language_info": {
   "codemirror_mode": {
    "name": "ipython",
    "version": 3
   },
   "file_extension": ".py",
   "mimetype": "text/x-python",
   "name": "python",
   "nbconvert_exporter": "python",
   "pygments_lexer": "ipython3",
   "version": "3.9.13"
  }
 },
 "nbformat": 4,
 "nbformat_minor": 5
}

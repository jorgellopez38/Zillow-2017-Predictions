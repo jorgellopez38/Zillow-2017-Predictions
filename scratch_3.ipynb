{
 "cells": [
  {
   "cell_type": "code",
   "execution_count": 1,
   "id": "02fbb66d",
   "metadata": {},
   "outputs": [],
   "source": [
    "# Data science imports\n",
    "import pandas as pd\n",
    "import numpy as np\n",
    "import matplotlib.pyplot as plt\n",
    "import seaborn as sns\n",
    "import plotly.express as px\n",
    "# Statistical/mathmatical imports\n",
    "from scipy import stats\n",
    "from scipy.stats import pearsonr, spearmanr\n",
    "from sklearn.model_selection import train_test_split\n",
    "from math import sqrt\n",
    "import math\n",
    "# ML imports\n",
    "from sklearn.linear_model import LinearRegression, LassoLars, TweedieRegressor\n",
    "from sklearn.metrics import mean_squared_error, r2_score, explained_variance_score\n",
    "from sklearn.preprocessing import MinMaxScaler, PolynomialFeatures\n",
    "from sklearn.preprocessing import StandardScaler, RobustScaler, QuantileTransformer\n",
    "from sklearn.feature_selection import SelectKBest, f_regression, RFE\n",
    "# Premade functions\n",
    "import acquire as a\n",
    "import wrangle as w\n",
    "import explore as e\n",
    "#Removes big scary warnings\n",
    "import warnings\n",
    "warnings.filterwarnings('ignore')\n",
    "seed = 42"
   ]
  },
  {
   "cell_type": "code",
   "execution_count": 2,
   "id": "c89a7541",
   "metadata": {},
   "outputs": [],
   "source": [
    "df = a.get_zillow_data()"
   ]
  },
  {
   "cell_type": "code",
   "execution_count": 3,
   "id": "d463b749",
   "metadata": {},
   "outputs": [],
   "source": [
    "df = w.prep_zillow(df)"
   ]
  },
  {
   "cell_type": "code",
   "execution_count": 4,
   "id": "29f2adaf",
   "metadata": {},
   "outputs": [],
   "source": [
    "train, validate, test = w.split_zillow(df)"
   ]
  },
  {
   "cell_type": "code",
   "execution_count": 5,
   "id": "156679cd",
   "metadata": {},
   "outputs": [],
   "source": [
    "train_scaled, validate_scaled, test_scaled = w.scale_data(train, validate, test, \n",
    "             columns_to_scale=['bedrooms', 'bathrooms', 'house_sqft'],\n",
    "             return_scaler=False)"
   ]
  },
  {
   "cell_type": "code",
   "execution_count": 6,
   "id": "a2417ffd",
   "metadata": {},
   "outputs": [],
   "source": [
    "#isolate X and y train \n",
    "X_train = train[['bedrooms', 'bathrooms', 'house_sqft']]\n",
    "y_train = train[['tax_value']]\n",
    "\n",
    "X_validate = validate[['bedrooms', 'bathrooms', 'house_sqft']]\n",
    "y_validate = validate[['tax_value']]\n",
    "\n",
    "X_test = test[['bedrooms', 'bathrooms', 'house_sqft']]\n",
    "y_test = test[['tax_value']]"
   ]
  },
  {
   "cell_type": "code",
   "execution_count": 7,
   "id": "e7cb6ae7",
   "metadata": {},
   "outputs": [],
   "source": [
    "#drop columns we don't need \n",
    "preds = train.drop(columns=['year_built','lot_size_sqft'])"
   ]
  },
  {
   "cell_type": "code",
   "execution_count": 8,
   "id": "6d85b3ed",
   "metadata": {},
   "outputs": [
    {
     "data": {
      "text/plain": [
       "368639.78"
      ]
     },
     "execution_count": 8,
     "metadata": {},
     "output_type": "execute_result"
    }
   ],
   "source": [
    "baseline = round(train['tax_value'].mean(), 2)\n",
    "baseline"
   ]
  },
  {
   "cell_type": "code",
   "execution_count": 9,
   "id": "9f2ae41b",
   "metadata": {},
   "outputs": [
    {
     "data": {
      "text/plain": [
       "LinearRegression()"
      ]
     },
     "execution_count": 9,
     "metadata": {},
     "output_type": "execute_result"
    }
   ],
   "source": [
    "#fit the model\n",
    "model = LinearRegression().fit(X_train, y_train)\n",
    "\n",
    "#make sure the model is made\n",
    "model"
   ]
  },
  {
   "cell_type": "code",
   "execution_count": 10,
   "id": "3e76c93d",
   "metadata": {},
   "outputs": [
    {
     "data": {
      "text/plain": [
       "array([[326227.13802515],\n",
       "       [335273.53682238],\n",
       "       [232560.98946786],\n",
       "       ...,\n",
       "       [268572.61544914],\n",
       "       [341907.79982173],\n",
       "       [252370.04602964]])"
      ]
     },
     "execution_count": 10,
     "metadata": {},
     "output_type": "execute_result"
    }
   ],
   "source": [
    "#use the model\n",
    "predictions = model.predict(X_train)\n",
    "\n",
    "#take a look at the predictions\n",
    "predictions"
   ]
  },
  {
   "cell_type": "code",
   "execution_count": 11,
   "id": "899b02ab",
   "metadata": {},
   "outputs": [],
   "source": [
    "#create a column that contains just the predictions\n",
    "train['yhat'] = predictions"
   ]
  },
  {
   "cell_type": "code",
   "execution_count": 12,
   "id": "a200d925",
   "metadata": {},
   "outputs": [],
   "source": [
    "#create a column for residual\n",
    "train['residuals'] =  train.yhat - train.tax_value"
   ]
  },
  {
   "cell_type": "code",
   "execution_count": 13,
   "id": "db98b2b2",
   "metadata": {},
   "outputs": [
    {
     "data": {
      "text/html": [
       "<div>\n",
       "<style scoped>\n",
       "    .dataframe tbody tr th:only-of-type {\n",
       "        vertical-align: middle;\n",
       "    }\n",
       "\n",
       "    .dataframe tbody tr th {\n",
       "        vertical-align: top;\n",
       "    }\n",
       "\n",
       "    .dataframe thead th {\n",
       "        text-align: right;\n",
       "    }\n",
       "</style>\n",
       "<table border=\"1\" class=\"dataframe\">\n",
       "  <thead>\n",
       "    <tr style=\"text-align: right;\">\n",
       "      <th></th>\n",
       "      <th>bedrooms</th>\n",
       "      <th>bathrooms</th>\n",
       "      <th>house_sqft</th>\n",
       "      <th>tax_value</th>\n",
       "      <th>lot_size_sqft</th>\n",
       "      <th>year_built</th>\n",
       "      <th>yhat</th>\n",
       "      <th>residuals</th>\n",
       "    </tr>\n",
       "  </thead>\n",
       "  <tbody>\n",
       "    <tr>\n",
       "      <th>31949</th>\n",
       "      <td>3</td>\n",
       "      <td>2.0</td>\n",
       "      <td>1404</td>\n",
       "      <td>176411</td>\n",
       "      <td>7704</td>\n",
       "      <td>1957</td>\n",
       "      <td>326227.138025</td>\n",
       "      <td>149816.138025</td>\n",
       "    </tr>\n",
       "    <tr>\n",
       "      <th>51617</th>\n",
       "      <td>3</td>\n",
       "      <td>2.0</td>\n",
       "      <td>1456</td>\n",
       "      <td>72444</td>\n",
       "      <td>5369</td>\n",
       "      <td>1954</td>\n",
       "      <td>335273.536822</td>\n",
       "      <td>262829.536822</td>\n",
       "    </tr>\n",
       "    <tr>\n",
       "      <th>42382</th>\n",
       "      <td>3</td>\n",
       "      <td>1.0</td>\n",
       "      <td>1055</td>\n",
       "      <td>64630</td>\n",
       "      <td>6550</td>\n",
       "      <td>1953</td>\n",
       "      <td>232560.989468</td>\n",
       "      <td>167930.989468</td>\n",
       "    </tr>\n",
       "    <tr>\n",
       "      <th>7098</th>\n",
       "      <td>4</td>\n",
       "      <td>1.0</td>\n",
       "      <td>1351</td>\n",
       "      <td>69894</td>\n",
       "      <td>5350</td>\n",
       "      <td>1953</td>\n",
       "      <td>246210.408915</td>\n",
       "      <td>176316.408915</td>\n",
       "    </tr>\n",
       "    <tr>\n",
       "      <th>43253</th>\n",
       "      <td>3</td>\n",
       "      <td>1.0</td>\n",
       "      <td>1010</td>\n",
       "      <td>57978</td>\n",
       "      <td>6365</td>\n",
       "      <td>1961</td>\n",
       "      <td>224732.375124</td>\n",
       "      <td>166754.375124</td>\n",
       "    </tr>\n",
       "  </tbody>\n",
       "</table>\n",
       "</div>"
      ],
      "text/plain": [
       "       bedrooms  bathrooms  house_sqft  tax_value  lot_size_sqft  year_built  \\\n",
       "31949         3        2.0        1404     176411           7704        1957   \n",
       "51617         3        2.0        1456      72444           5369        1954   \n",
       "42382         3        1.0        1055      64630           6550        1953   \n",
       "7098          4        1.0        1351      69894           5350        1953   \n",
       "43253         3        1.0        1010      57978           6365        1961   \n",
       "\n",
       "                yhat      residuals  \n",
       "31949  326227.138025  149816.138025  \n",
       "51617  335273.536822  262829.536822  \n",
       "42382  232560.989468  167930.989468  \n",
       "7098   246210.408915  176316.408915  \n",
       "43253  224732.375124  166754.375124  "
      ]
     },
     "execution_count": 13,
     "metadata": {},
     "output_type": "execute_result"
    }
   ],
   "source": [
    "train.head()"
   ]
  },
  {
   "cell_type": "code",
   "execution_count": 14,
   "id": "9f039f26",
   "metadata": {},
   "outputs": [
    {
     "data": {
      "image/png": "[encoded data removed]",
      "text/plain": [
       "<Figure size 640x480 with 1 Axes>"
      ]
     },
     "metadata": {},
     "output_type": "display_data"
    }
   ],
   "source": [
    "#let's visualize our actual vs our residuals\n",
    "sns.scatterplot(data=train, x='tax_value', y='residuals')\n",
    "\n",
    "plt.xlabel('Actual Home Value')\n",
    "plt.ylabel('Residual Value')\n",
    "plt.title('Residuals vs Actual Value')\n",
    "plt.show()"
   ]
  },
  {
   "cell_type": "code",
   "execution_count": 15,
   "id": "95430262",
   "metadata": {},
   "outputs": [
    {
     "data": {
      "text/plain": [
       "1062883091369704.0"
      ]
     },
     "execution_count": 15,
     "metadata": {},
     "output_type": "execute_result"
    }
   ],
   "source": [
    "#calculate sum of squared errors (SSE)\n",
    "SSE = (train.residuals **2).sum()\n",
    "SSE"
   ]
  },
  {
   "cell_type": "code",
   "execution_count": 16,
   "id": "1b871c37",
   "metadata": {},
   "outputs": [
    {
     "data": {
      "text/plain": [
       "309444831880643.2"
      ]
     },
     "execution_count": 16,
     "metadata": {},
     "output_type": "execute_result"
    }
   ],
   "source": [
    "ESS = ((train.yhat - train.tax_value.mean())**2).sum()\n",
    "ESS"
   ]
  },
  {
   "cell_type": "code",
   "execution_count": 17,
   "id": "2349e944",
   "metadata": {},
   "outputs": [
    {
     "data": {
      "text/plain": [
       "1372327923250347.2"
      ]
     },
     "execution_count": 17,
     "metadata": {},
     "output_type": "execute_result"
    }
   ],
   "source": [
    "TSS = ESS + SSE\n",
    "TSS"
   ]
  },
  {
   "cell_type": "code",
   "execution_count": 18,
   "id": "9923129b",
   "metadata": {},
   "outputs": [
    {
     "data": {
      "text/plain": [
       "45039327571.91847"
      ]
     },
     "execution_count": 18,
     "metadata": {},
     "output_type": "execute_result"
    }
   ],
   "source": [
    "#one way to accomplish this\n",
    "SSE/len(train.yhat)"
   ]
  },
  {
   "cell_type": "code",
   "execution_count": 19,
   "id": "9fcb58c1",
   "metadata": {},
   "outputs": [
    {
     "data": {
      "text/plain": [
       "45039327571.91847"
      ]
     },
     "execution_count": 19,
     "metadata": {},
     "output_type": "execute_result"
    }
   ],
   "source": [
    "#another way to accomplish this using a library\n",
    "MSE = mean_squared_error(train.tax_value, train.yhat)\n",
    "MSE"
   ]
  },
  {
   "cell_type": "code",
   "execution_count": 20,
   "id": "aa52b7ac",
   "metadata": {},
   "outputs": [
    {
     "data": {
      "text/plain": [
       "212224.71008795954"
      ]
     },
     "execution_count": 20,
     "metadata": {},
     "output_type": "execute_result"
    }
   ],
   "source": [
    "#take the square root of Mean Squared Error\n",
    "RMSE = MSE**.5\n",
    "RMSE"
   ]
  },
  {
   "cell_type": "code",
   "execution_count": 21,
   "id": "123cd243",
   "metadata": {},
   "outputs": [
    {
     "data": {
      "text/plain": [
       "212224.71008795954"
      ]
     },
     "execution_count": 21,
     "metadata": {},
     "output_type": "execute_result"
    }
   ],
   "source": [
    "#another way to accomplish this using sqft function from math library\n",
    "math.sqrt(MSE)"
   ]
  },
  {
   "cell_type": "code",
   "execution_count": 22,
   "id": "97a455ca",
   "metadata": {},
   "outputs": [],
   "source": [
    "#create our baseline column\n",
    "train['baseline'] = train.tax_value.mean()"
   ]
  },
  {
   "cell_type": "code",
   "execution_count": 23,
   "id": "5c7d7b42",
   "metadata": {},
   "outputs": [
    {
     "data": {
      "text/plain": [
       "58151952339.09115"
      ]
     },
     "execution_count": 23,
     "metadata": {},
     "output_type": "execute_result"
    }
   ],
   "source": [
    "MSE_baseline = mean_squared_error(train.tax_value, train.baseline)\n",
    "MSE_baseline"
   ]
  },
  {
   "cell_type": "code",
   "execution_count": 24,
   "id": "1ff4251d",
   "metadata": {},
   "outputs": [],
   "source": [
    "#create a column for SSE baseline column\n",
    "train['MSE_baseline'] = MSE_baseline"
   ]
  },
  {
   "cell_type": "code",
   "execution_count": 25,
   "id": "ed421ed5",
   "metadata": {},
   "outputs": [
    {
     "data": {
      "text/plain": [
       "1372327923250212.0"
      ]
     },
     "execution_count": 25,
     "metadata": {},
     "output_type": "execute_result"
    }
   ],
   "source": [
    "SSE_baseline = MSE_baseline * len(train)\n",
    "SSE_baseline"
   ]
  },
  {
   "cell_type": "code",
   "execution_count": 26,
   "id": "865b6b05",
   "metadata": {},
   "outputs": [],
   "source": [
    "#create a column for SSE baseline column\n",
    "train['SSE_baseline'] = SSE_baseline"
   ]
  },
  {
   "cell_type": "code",
   "execution_count": 27,
   "id": "6a36f598",
   "metadata": {},
   "outputs": [
    {
     "data": {
      "text/plain": [
       "241147.15909396723"
      ]
     },
     "execution_count": 27,
     "metadata": {},
     "output_type": "execute_result"
    }
   ],
   "source": [
    "RMSE_baseline = MSE_baseline**.5\n",
    "RMSE_baseline"
   ]
  },
  {
   "cell_type": "code",
   "execution_count": 28,
   "id": "e295dd9a",
   "metadata": {},
   "outputs": [],
   "source": [
    "#create a column for RMSE baseline column\n",
    "train['RMSE_baseline'] = RMSE_baseline"
   ]
  },
  {
   "cell_type": "code",
   "execution_count": 29,
   "id": "177a939d",
   "metadata": {},
   "outputs": [
    {
     "data": {
      "text/html": [
       "<div>\n",
       "<style scoped>\n",
       "    .dataframe tbody tr th:only-of-type {\n",
       "        vertical-align: middle;\n",
       "    }\n",
       "\n",
       "    .dataframe tbody tr th {\n",
       "        vertical-align: top;\n",
       "    }\n",
       "\n",
       "    .dataframe thead th {\n",
       "        text-align: right;\n",
       "    }\n",
       "</style>\n",
       "<table border=\"1\" class=\"dataframe\">\n",
       "  <thead>\n",
       "    <tr style=\"text-align: right;\">\n",
       "      <th></th>\n",
       "      <th>bedrooms</th>\n",
       "      <th>bathrooms</th>\n",
       "      <th>house_sqft</th>\n",
       "      <th>tax_value</th>\n",
       "      <th>lot_size_sqft</th>\n",
       "      <th>year_built</th>\n",
       "      <th>yhat</th>\n",
       "      <th>residuals</th>\n",
       "      <th>baseline</th>\n",
       "      <th>MSE_baseline</th>\n",
       "      <th>SSE_baseline</th>\n",
       "      <th>RMSE_baseline</th>\n",
       "    </tr>\n",
       "  </thead>\n",
       "  <tbody>\n",
       "    <tr>\n",
       "      <th>31949</th>\n",
       "      <td>3</td>\n",
       "      <td>2.0</td>\n",
       "      <td>1404</td>\n",
       "      <td>176411</td>\n",
       "      <td>7704</td>\n",
       "      <td>1957</td>\n",
       "      <td>326227.138025</td>\n",
       "      <td>149816.138025</td>\n",
       "      <td>368639.775838</td>\n",
       "      <td>5.815195e+10</td>\n",
       "      <td>1.372328e+15</td>\n",
       "      <td>241147.159094</td>\n",
       "    </tr>\n",
       "    <tr>\n",
       "      <th>51617</th>\n",
       "      <td>3</td>\n",
       "      <td>2.0</td>\n",
       "      <td>1456</td>\n",
       "      <td>72444</td>\n",
       "      <td>5369</td>\n",
       "      <td>1954</td>\n",
       "      <td>335273.536822</td>\n",
       "      <td>262829.536822</td>\n",
       "      <td>368639.775838</td>\n",
       "      <td>5.815195e+10</td>\n",
       "      <td>1.372328e+15</td>\n",
       "      <td>241147.159094</td>\n",
       "    </tr>\n",
       "    <tr>\n",
       "      <th>42382</th>\n",
       "      <td>3</td>\n",
       "      <td>1.0</td>\n",
       "      <td>1055</td>\n",
       "      <td>64630</td>\n",
       "      <td>6550</td>\n",
       "      <td>1953</td>\n",
       "      <td>232560.989468</td>\n",
       "      <td>167930.989468</td>\n",
       "      <td>368639.775838</td>\n",
       "      <td>5.815195e+10</td>\n",
       "      <td>1.372328e+15</td>\n",
       "      <td>241147.159094</td>\n",
       "    </tr>\n",
       "  </tbody>\n",
       "</table>\n",
       "</div>"
      ],
      "text/plain": [
       "       bedrooms  bathrooms  house_sqft  tax_value  lot_size_sqft  year_built  \\\n",
       "31949         3        2.0        1404     176411           7704        1957   \n",
       "51617         3        2.0        1456      72444           5369        1954   \n",
       "42382         3        1.0        1055      64630           6550        1953   \n",
       "\n",
       "                yhat      residuals       baseline  MSE_baseline  \\\n",
       "31949  326227.138025  149816.138025  368639.775838  5.815195e+10   \n",
       "51617  335273.536822  262829.536822  368639.775838  5.815195e+10   \n",
       "42382  232560.989468  167930.989468  368639.775838  5.815195e+10   \n",
       "\n",
       "       SSE_baseline  RMSE_baseline  \n",
       "31949  1.372328e+15  241147.159094  \n",
       "51617  1.372328e+15  241147.159094  \n",
       "42382  1.372328e+15  241147.159094  "
      ]
     },
     "execution_count": 29,
     "metadata": {},
     "output_type": "execute_result"
    }
   ],
   "source": [
    "#take a look\n",
    "train.head(3)"
   ]
  },
  {
   "cell_type": "code",
   "execution_count": 30,
   "id": "9a672ffc",
   "metadata": {},
   "outputs": [
    {
     "name": "stdout",
     "output_type": "stream",
     "text": [
      "My OSL model performs better than baseline\n"
     ]
    }
   ],
   "source": [
    "if SSE < SSE_baseline:\n",
    "    print('My OSL model performs better than baseline')\n",
    "else:\n",
    "    print('My OSL model performs worse than baseline. :( )')"
   ]
  },
  {
   "cell_type": "code",
   "execution_count": 31,
   "id": "71faff6d",
   "metadata": {},
   "outputs": [
    {
     "data": {
      "text/plain": [
       "0.22548898600541895"
      ]
     },
     "execution_count": 31,
     "metadata": {},
     "output_type": "execute_result"
    }
   ],
   "source": [
    "#First, let's perform this manually\n",
    "R2 = ESS / TSS\n",
    "R2"
   ]
  },
  {
   "cell_type": "code",
   "execution_count": 32,
   "id": "8f990b6d",
   "metadata": {},
   "outputs": [
    {
     "name": "stdout",
     "output_type": "stream",
     "text": [
      "R-squared =  0.225\n",
      "Percent of variance =  22.5 %\n"
     ]
    }
   ],
   "source": [
    "#make it pretty\n",
    "print('R-squared = ',round(R2,3))\n",
    "print(\"Percent of variance = \", round(R2*100,1), \"%\")"
   ]
  },
  {
   "cell_type": "code",
   "execution_count": 33,
   "id": "29e74b9e",
   "metadata": {},
   "outputs": [
    {
     "data": {
      "text/plain": [
       "0.22548898600534262"
      ]
     },
     "execution_count": 33,
     "metadata": {},
     "output_type": "execute_result"
    }
   ],
   "source": [
    "#now, we can use sklearn function for R2 score\n",
    "r2_score(train.tax_value, train.yhat)"
   ]
  },
  {
   "cell_type": "code",
   "execution_count": 34,
   "id": "0ce03eb9",
   "metadata": {},
   "outputs": [
    {
     "name": "stdout",
     "output_type": "stream",
     "text": [
      "Explained Variance =  0.225\n"
     ]
    }
   ],
   "source": [
    "#explained variance score- using import\n",
    "evs = explained_variance_score(train.tax_value, train.yhat)\n",
    "print('Explained Variance = ', round(evs,3))"
   ]
  },
  {
   "cell_type": "code",
   "execution_count": 35,
   "id": "e04f22b7",
   "metadata": {},
   "outputs": [
    {
     "data": {
      "text/plain": [
       "28922.449006007693"
      ]
     },
     "execution_count": 35,
     "metadata": {},
     "output_type": "execute_result"
    }
   ],
   "source": [
    "RMSE_baseline - RMSE"
   ]
  },
  {
   "cell_type": "code",
   "execution_count": 36,
   "id": "3c54f55e",
   "metadata": {},
   "outputs": [
    {
     "name": "stdout",
     "output_type": "stream",
     "text": [
      "The model rmse performs better the rmse_baseline\n"
     ]
    }
   ],
   "source": [
    "if RMSE < RMSE_baseline:\n",
    "    print(f'The model rmse performs better the rmse_baseline')\n",
    "else:\n",
    "    print(f'The model rmse performs worse than the rmse_baseline')"
   ]
  },
  {
   "cell_type": "code",
   "execution_count": 37,
   "id": "380fa3d0",
   "metadata": {},
   "outputs": [],
   "source": [
    "def model(ml_model,mod_name,X_train,X_validate):\n",
    "    '''\n",
    "    ml_model: ml model\n",
    "    mod_name: name of the model\n",
    "    X_train: X dataset\n",
    "    X_val: X dataset\n",
    "    '''\n",
    "    model = ml_model\n",
    "    model.fit(X_train,y_train.value)\n",
    "    pred = model.predict(X_train).round(1)\n",
    "    rmse_train =calc_rmse(y_train.value,pred)\n",
    "    pred = model.predict(X_val).round(1)\n",
    "    rmse_validate = calc_rmse(y_val.value,pred)\n",
    "    return rmse_train,rmse_validate,mod_name"
   ]
  },
  {
   "cell_type": "code",
   "execution_count": 38,
   "id": "7f35e212",
   "metadata": {},
   "outputs": [
    {
     "data": {
      "text/html": [
       "<div>\n",
       "<style scoped>\n",
       "    .dataframe tbody tr th:only-of-type {\n",
       "        vertical-align: middle;\n",
       "    }\n",
       "\n",
       "    .dataframe tbody tr th {\n",
       "        vertical-align: top;\n",
       "    }\n",
       "\n",
       "    .dataframe thead th {\n",
       "        text-align: right;\n",
       "    }\n",
       "</style>\n",
       "<table border=\"1\" class=\"dataframe\">\n",
       "  <thead>\n",
       "    <tr style=\"text-align: right;\">\n",
       "      <th></th>\n",
       "      <th>bedrooms</th>\n",
       "      <th>bathrooms</th>\n",
       "      <th>house_sqft</th>\n",
       "      <th>tax_value</th>\n",
       "      <th>lot_size_sqft</th>\n",
       "      <th>year_built</th>\n",
       "    </tr>\n",
       "  </thead>\n",
       "  <tbody>\n",
       "    <tr>\n",
       "      <th>31949</th>\n",
       "      <td>0.500000</td>\n",
       "      <td>0.333333</td>\n",
       "      <td>0.245777</td>\n",
       "      <td>176411</td>\n",
       "      <td>7704</td>\n",
       "      <td>1957</td>\n",
       "    </tr>\n",
       "    <tr>\n",
       "      <th>51617</th>\n",
       "      <td>0.500000</td>\n",
       "      <td>0.333333</td>\n",
       "      <td>0.256757</td>\n",
       "      <td>72444</td>\n",
       "      <td>5369</td>\n",
       "      <td>1954</td>\n",
       "    </tr>\n",
       "    <tr>\n",
       "      <th>42382</th>\n",
       "      <td>0.500000</td>\n",
       "      <td>0.166667</td>\n",
       "      <td>0.172086</td>\n",
       "      <td>64630</td>\n",
       "      <td>6550</td>\n",
       "      <td>1953</td>\n",
       "    </tr>\n",
       "    <tr>\n",
       "      <th>7098</th>\n",
       "      <td>0.666667</td>\n",
       "      <td>0.166667</td>\n",
       "      <td>0.234586</td>\n",
       "      <td>69894</td>\n",
       "      <td>5350</td>\n",
       "      <td>1953</td>\n",
       "    </tr>\n",
       "    <tr>\n",
       "      <th>43253</th>\n",
       "      <td>0.500000</td>\n",
       "      <td>0.166667</td>\n",
       "      <td>0.162584</td>\n",
       "      <td>57978</td>\n",
       "      <td>6365</td>\n",
       "      <td>1961</td>\n",
       "    </tr>\n",
       "  </tbody>\n",
       "</table>\n",
       "</div>"
      ],
      "text/plain": [
       "       bedrooms  bathrooms  house_sqft  tax_value  lot_size_sqft  year_built\n",
       "31949  0.500000   0.333333    0.245777     176411           7704        1957\n",
       "51617  0.500000   0.333333    0.256757      72444           5369        1954\n",
       "42382  0.500000   0.166667    0.172086      64630           6550        1953\n",
       "7098   0.666667   0.166667    0.234586      69894           5350        1953\n",
       "43253  0.500000   0.166667    0.162584      57978           6365        1961"
      ]
     },
     "execution_count": 38,
     "metadata": {},
     "output_type": "execute_result"
    }
   ],
   "source": [
    "train_scaled.head()"
   ]
  },
  {
   "cell_type": "code",
   "execution_count": 39,
   "id": "151484a1",
   "metadata": {},
   "outputs": [],
   "source": [
    "X_train_scaled = train[['bedrooms', 'bathrooms', 'house_sqft']] \n",
    "y_train = train['tax_value']"
   ]
  },
  {
   "cell_type": "code",
   "execution_count": 42,
   "id": "28927480",
   "metadata": {},
   "outputs": [],
   "source": [
    "mm_scaler = MinMaxScaler()\n",
    "mm_scaler.fit(validate[['bedrooms', 'bathrooms', 'house_sqft',]])\n",
    "validate[['bedrooms', 'bathrooms', 'house_sqft']] = mm_scaler.transform(validate[['bedrooms', 'bathrooms', 'house_sqft']])\n",
    "X_validate = validate.drop(columns=['tax_value', 'year_built', 'lot_size_sqft'])\n",
    "X_train = train.drop(columns=['tax_value', 'year_built', 'lot_size_sqft'])\n",
    "y_validate = validate['tax_value']"
   ]
  },
  {
   "cell_type": "code",
   "execution_count": 44,
   "id": "2f14a144",
   "metadata": {},
   "outputs": [
    {
     "data": {
      "text/plain": [
       "LinearRegression()"
      ]
     },
     "execution_count": 44,
     "metadata": {},
     "output_type": "execute_result"
    }
   ],
   "source": [
    "lm = LinearRegression()"
   ]
  },
  {
   "cell_type": "code",
   "execution_count": 45,
   "id": "64ce39d1",
   "metadata": {},
   "outputs": [
    {
     "data": {
      "text/plain": [
       "LinearRegression()"
      ]
     },
     "execution_count": 45,
     "metadata": {},
     "output_type": "execute_result"
    }
   ],
   "source": [
    "lm.fit(X_train, y_train)"
   ]
  },
  {
   "cell_type": "code",
   "execution_count": 46,
   "id": "53a8c214",
   "metadata": {},
   "outputs": [],
   "source": [
    "lm_preds = lm.predict(X_train)"
   ]
  },
  {
   "cell_type": "code",
   "execution_count": 47,
   "id": "6e47f22f",
   "metadata": {},
   "outputs": [
    {
     "data": {
      "text/html": [
       "<div>\n",
       "<style scoped>\n",
       "    .dataframe tbody tr th:only-of-type {\n",
       "        vertical-align: middle;\n",
       "    }\n",
       "\n",
       "    .dataframe tbody tr th {\n",
       "        vertical-align: top;\n",
       "    }\n",
       "\n",
       "    .dataframe thead th {\n",
       "        text-align: right;\n",
       "    }\n",
       "</style>\n",
       "<table border=\"1\" class=\"dataframe\">\n",
       "  <thead>\n",
       "    <tr style=\"text-align: right;\">\n",
       "      <th></th>\n",
       "      <th>actual</th>\n",
       "      <th>lm_preds</th>\n",
       "    </tr>\n",
       "  </thead>\n",
       "  <tbody>\n",
       "    <tr>\n",
       "      <th>31949</th>\n",
       "      <td>176411</td>\n",
       "      <td>176411.0</td>\n",
       "    </tr>\n",
       "    <tr>\n",
       "      <th>51617</th>\n",
       "      <td>72444</td>\n",
       "      <td>72444.0</td>\n",
       "    </tr>\n",
       "    <tr>\n",
       "      <th>42382</th>\n",
       "      <td>64630</td>\n",
       "      <td>64630.0</td>\n",
       "    </tr>\n",
       "    <tr>\n",
       "      <th>7098</th>\n",
       "      <td>69894</td>\n",
       "      <td>69894.0</td>\n",
       "    </tr>\n",
       "    <tr>\n",
       "      <th>43253</th>\n",
       "      <td>57978</td>\n",
       "      <td>57978.0</td>\n",
       "    </tr>\n",
       "  </tbody>\n",
       "</table>\n",
       "</div>"
      ],
      "text/plain": [
       "       actual  lm_preds\n",
       "31949  176411  176411.0\n",
       "51617   72444   72444.0\n",
       "42382   64630   64630.0\n",
       "7098    69894   69894.0\n",
       "43253   57978   57978.0"
      ]
     },
     "execution_count": 47,
     "metadata": {},
     "output_type": "execute_result"
    }
   ],
   "source": [
    "preds_df = pd.DataFrame({'actual': y_train,\n",
    "                         'lm_preds': lm_preds})\n",
    "preds_df.head()"
   ]
  },
  {
   "cell_type": "code",
   "execution_count": 48,
   "id": "57bb0fab",
   "metadata": {},
   "outputs": [
    {
     "data": {
      "text/plain": [
       "2.8366003467645175e-10"
      ]
     },
     "execution_count": 48,
     "metadata": {},
     "output_type": "execute_result"
    }
   ],
   "source": [
    "lm_rmse = sqrt(mean_squared_error(preds_df['lm_preds'], preds_df['actual']))\n",
    "lm_rmse"
   ]
  },
  {
   "cell_type": "code",
   "execution_count": 49,
   "id": "22e1ff62",
   "metadata": {},
   "outputs": [],
   "source": [
    "lasso = LassoLars(alpha=0.1)"
   ]
  },
  {
   "cell_type": "code",
   "execution_count": 50,
   "id": "170278c8",
   "metadata": {},
   "outputs": [],
   "source": [
    "lasso.fit(X_train, y_train)\n",
    "\n",
    "lasso_preds = lasso.predict(X_train)"
   ]
  },
  {
   "cell_type": "code",
   "execution_count": 51,
   "id": "c58a9998",
   "metadata": {},
   "outputs": [
    {
     "data": {
      "text/html": [
       "<div>\n",
       "<style scoped>\n",
       "    .dataframe tbody tr th:only-of-type {\n",
       "        vertical-align: middle;\n",
       "    }\n",
       "\n",
       "    .dataframe tbody tr th {\n",
       "        vertical-align: top;\n",
       "    }\n",
       "\n",
       "    .dataframe thead th {\n",
       "        text-align: right;\n",
       "    }\n",
       "</style>\n",
       "<table border=\"1\" class=\"dataframe\">\n",
       "  <thead>\n",
       "    <tr style=\"text-align: right;\">\n",
       "      <th></th>\n",
       "      <th>actual</th>\n",
       "      <th>lm_preds</th>\n",
       "      <th>lasso_preds</th>\n",
       "    </tr>\n",
       "  </thead>\n",
       "  <tbody>\n",
       "    <tr>\n",
       "      <th>31949</th>\n",
       "      <td>176411</td>\n",
       "      <td>176411.0</td>\n",
       "      <td>176427.534301</td>\n",
       "    </tr>\n",
       "    <tr>\n",
       "      <th>51617</th>\n",
       "      <td>72444</td>\n",
       "      <td>72444.0</td>\n",
       "      <td>72467.501213</td>\n",
       "    </tr>\n",
       "    <tr>\n",
       "      <th>42382</th>\n",
       "      <td>64630</td>\n",
       "      <td>64630.0</td>\n",
       "      <td>64660.411193</td>\n",
       "    </tr>\n",
       "    <tr>\n",
       "      <th>7098</th>\n",
       "      <td>69894</td>\n",
       "      <td>69894.0</td>\n",
       "      <td>69923.187057</td>\n",
       "    </tr>\n",
       "    <tr>\n",
       "      <th>43253</th>\n",
       "      <td>57978</td>\n",
       "      <td>57978.0</td>\n",
       "      <td>58009.376259</td>\n",
       "    </tr>\n",
       "  </tbody>\n",
       "</table>\n",
       "</div>"
      ],
      "text/plain": [
       "       actual  lm_preds    lasso_preds\n",
       "31949  176411  176411.0  176427.534301\n",
       "51617   72444   72444.0   72467.501213\n",
       "42382   64630   64630.0   64660.411193\n",
       "7098    69894   69894.0   69923.187057\n",
       "43253   57978   57978.0   58009.376259"
      ]
     },
     "execution_count": 51,
     "metadata": {},
     "output_type": "execute_result"
    }
   ],
   "source": [
    "preds_df['lasso_preds'] = lasso_preds\n",
    "preds_df.head()"
   ]
  },
  {
   "cell_type": "code",
   "execution_count": 52,
   "id": "2c429514",
   "metadata": {},
   "outputs": [
    {
     "data": {
      "text/plain": [
       "21.725100690034424"
      ]
     },
     "execution_count": 52,
     "metadata": {},
     "output_type": "execute_result"
    }
   ],
   "source": [
    "lasso_rmse = sqrt(mean_squared_error(preds_df['actual'], preds_df['lasso_preds']))\n",
    "lasso_rmse"
   ]
  },
  {
   "cell_type": "code",
   "execution_count": 53,
   "id": "c3ad68b2",
   "metadata": {},
   "outputs": [
    {
     "data": {
      "text/plain": [
       "PolynomialFeatures()"
      ]
     },
     "execution_count": 53,
     "metadata": {},
     "output_type": "execute_result"
    }
   ],
   "source": [
    "pf = PolynomialFeatures(degree=2)\n",
    "\n",
    "pf.fit(X_train, y_train)"
   ]
  },
  {
   "cell_type": "code",
   "execution_count": 54,
   "id": "0dcad08f",
   "metadata": {},
   "outputs": [],
   "source": [
    "X_polynomial = pf.transform(X_train)"
   ]
  },
  {
   "cell_type": "code",
   "execution_count": 55,
   "id": "d3d1cf3e",
   "metadata": {},
   "outputs": [
    {
     "data": {
      "text/plain": [
       "LinearRegression()"
      ]
     },
     "execution_count": 55,
     "metadata": {},
     "output_type": "execute_result"
    }
   ],
   "source": [
    "lm2 = LinearRegression()\n",
    "\n",
    "lm2.fit(X_polynomial, y_train)"
   ]
  },
  {
   "cell_type": "code",
   "execution_count": 56,
   "id": "89bff253",
   "metadata": {},
   "outputs": [
    {
     "data": {
      "text/html": [
       "<div>\n",
       "<style scoped>\n",
       "    .dataframe tbody tr th:only-of-type {\n",
       "        vertical-align: middle;\n",
       "    }\n",
       "\n",
       "    .dataframe tbody tr th {\n",
       "        vertical-align: top;\n",
       "    }\n",
       "\n",
       "    .dataframe thead th {\n",
       "        text-align: right;\n",
       "    }\n",
       "</style>\n",
       "<table border=\"1\" class=\"dataframe\">\n",
       "  <thead>\n",
       "    <tr style=\"text-align: right;\">\n",
       "      <th></th>\n",
       "      <th>actual</th>\n",
       "      <th>lm_preds</th>\n",
       "      <th>lasso_preds</th>\n",
       "      <th>poly_preds</th>\n",
       "    </tr>\n",
       "  </thead>\n",
       "  <tbody>\n",
       "    <tr>\n",
       "      <th>31949</th>\n",
       "      <td>176411</td>\n",
       "      <td>176411.0</td>\n",
       "      <td>176427.534301</td>\n",
       "      <td>176411.0</td>\n",
       "    </tr>\n",
       "    <tr>\n",
       "      <th>51617</th>\n",
       "      <td>72444</td>\n",
       "      <td>72444.0</td>\n",
       "      <td>72467.501213</td>\n",
       "      <td>72444.0</td>\n",
       "    </tr>\n",
       "    <tr>\n",
       "      <th>42382</th>\n",
       "      <td>64630</td>\n",
       "      <td>64630.0</td>\n",
       "      <td>64660.411193</td>\n",
       "      <td>64630.0</td>\n",
       "    </tr>\n",
       "    <tr>\n",
       "      <th>7098</th>\n",
       "      <td>69894</td>\n",
       "      <td>69894.0</td>\n",
       "      <td>69923.187057</td>\n",
       "      <td>69894.0</td>\n",
       "    </tr>\n",
       "    <tr>\n",
       "      <th>43253</th>\n",
       "      <td>57978</td>\n",
       "      <td>57978.0</td>\n",
       "      <td>58009.376259</td>\n",
       "      <td>57978.0</td>\n",
       "    </tr>\n",
       "  </tbody>\n",
       "</table>\n",
       "</div>"
      ],
      "text/plain": [
       "       actual  lm_preds    lasso_preds  poly_preds\n",
       "31949  176411  176411.0  176427.534301    176411.0\n",
       "51617   72444   72444.0   72467.501213     72444.0\n",
       "42382   64630   64630.0   64660.411193     64630.0\n",
       "7098    69894   69894.0   69923.187057     69894.0\n",
       "43253   57978   57978.0   58009.376259     57978.0"
      ]
     },
     "execution_count": 56,
     "metadata": {},
     "output_type": "execute_result"
    }
   ],
   "source": [
    "preds_df['poly_preds'] = lm2.predict(X_polynomial)\n",
    "preds_df.head()"
   ]
  },
  {
   "cell_type": "code",
   "execution_count": 57,
   "id": "7ab90009",
   "metadata": {},
   "outputs": [
    {
     "data": {
      "text/plain": [
       "2.6652852411259335e-10"
      ]
     },
     "execution_count": 57,
     "metadata": {},
     "output_type": "execute_result"
    }
   ],
   "source": [
    "poly_rmse = sqrt(mean_squared_error(preds_df['actual'], preds_df['poly_preds']))\n",
    "\n",
    "poly_rmse"
   ]
  },
  {
   "cell_type": "code",
   "execution_count": 58,
   "id": "c7f75bb6",
   "metadata": {},
   "outputs": [
    {
     "data": {
      "text/plain": [
       "LassoLars(alpha=0.1)"
      ]
     },
     "execution_count": 58,
     "metadata": {},
     "output_type": "execute_result"
    }
   ],
   "source": [
    "lasso2 = LassoLars(alpha=0.1)\n",
    "lasso2.fit(X_polynomial, y_train)"
   ]
  },
  {
   "cell_type": "code",
   "execution_count": 59,
   "id": "75a74925",
   "metadata": {},
   "outputs": [
    {
     "data": {
      "text/html": [
       "<div>\n",
       "<style scoped>\n",
       "    .dataframe tbody tr th:only-of-type {\n",
       "        vertical-align: middle;\n",
       "    }\n",
       "\n",
       "    .dataframe tbody tr th {\n",
       "        vertical-align: top;\n",
       "    }\n",
       "\n",
       "    .dataframe thead th {\n",
       "        text-align: right;\n",
       "    }\n",
       "</style>\n",
       "<table border=\"1\" class=\"dataframe\">\n",
       "  <thead>\n",
       "    <tr style=\"text-align: right;\">\n",
       "      <th></th>\n",
       "      <th>actual</th>\n",
       "      <th>lm_preds</th>\n",
       "      <th>lasso_preds</th>\n",
       "      <th>poly_preds</th>\n",
       "      <th>lasso_poly</th>\n",
       "    </tr>\n",
       "  </thead>\n",
       "  <tbody>\n",
       "    <tr>\n",
       "      <th>31949</th>\n",
       "      <td>176411</td>\n",
       "      <td>176411.0</td>\n",
       "      <td>176427.534301</td>\n",
       "      <td>176411.0</td>\n",
       "      <td>192631.640362</td>\n",
       "    </tr>\n",
       "    <tr>\n",
       "      <th>51617</th>\n",
       "      <td>72444</td>\n",
       "      <td>72444.0</td>\n",
       "      <td>72467.501213</td>\n",
       "      <td>72444.0</td>\n",
       "      <td>96886.870786</td>\n",
       "    </tr>\n",
       "    <tr>\n",
       "      <th>42382</th>\n",
       "      <td>64630</td>\n",
       "      <td>64630.0</td>\n",
       "      <td>64660.411193</td>\n",
       "      <td>64630.0</td>\n",
       "      <td>112460.041466</td>\n",
       "    </tr>\n",
       "    <tr>\n",
       "      <th>7098</th>\n",
       "      <td>69894</td>\n",
       "      <td>69894.0</td>\n",
       "      <td>69923.187057</td>\n",
       "      <td>69894.0</td>\n",
       "      <td>118911.121820</td>\n",
       "    </tr>\n",
       "    <tr>\n",
       "      <th>43253</th>\n",
       "      <td>57978</td>\n",
       "      <td>57978.0</td>\n",
       "      <td>58009.376259</td>\n",
       "      <td>57978.0</td>\n",
       "      <td>107642.856389</td>\n",
       "    </tr>\n",
       "  </tbody>\n",
       "</table>\n",
       "</div>"
      ],
      "text/plain": [
       "       actual  lm_preds    lasso_preds  poly_preds     lasso_poly\n",
       "31949  176411  176411.0  176427.534301    176411.0  192631.640362\n",
       "51617   72444   72444.0   72467.501213     72444.0   96886.870786\n",
       "42382   64630   64630.0   64660.411193     64630.0  112460.041466\n",
       "7098    69894   69894.0   69923.187057     69894.0  118911.121820\n",
       "43253   57978   57978.0   58009.376259     57978.0  107642.856389"
      ]
     },
     "execution_count": 59,
     "metadata": {},
     "output_type": "execute_result"
    }
   ],
   "source": [
    "preds_df['lasso_poly'] = lasso2.predict(X_polynomial)\n",
    "preds_df.head()"
   ]
  },
  {
   "cell_type": "code",
   "execution_count": 60,
   "id": "307f95bb",
   "metadata": {},
   "outputs": [
    {
     "data": {
      "text/plain": [
       "25342.12843786727"
      ]
     },
     "execution_count": 60,
     "metadata": {},
     "output_type": "execute_result"
    }
   ],
   "source": [
    "lassopoly_rmse = sqrt(mean_squared_error(preds_df['actual'], preds_df['lasso_poly']))\n",
    "lassopoly_rmse"
   ]
  },
  {
   "cell_type": "code",
   "execution_count": 61,
   "id": "2728be7e",
   "metadata": {},
   "outputs": [
    {
     "data": {
      "image/png": "[encoded data removed]",
      "text/plain": [
       "<Figure size 640x480 with 1 Axes>"
      ]
     },
     "metadata": {},
     "output_type": "display_data"
    }
   ],
   "source": [
    "plt.hist(y_train)\n",
    "plt.show()"
   ]
  },
  {
   "cell_type": "code",
   "execution_count": 62,
   "id": "625084b1",
   "metadata": {},
   "outputs": [
    {
     "data": {
      "text/plain": [
       "TweedieRegressor(power=0)"
      ]
     },
     "execution_count": 62,
     "metadata": {},
     "output_type": "execute_result"
    }
   ],
   "source": [
    "tweedie = TweedieRegressor(power=0)\n",
    "\n",
    "tweedie.fit(X_train, y_train)"
   ]
  },
  {
   "cell_type": "code",
   "execution_count": 63,
   "id": "daf6eaec",
   "metadata": {},
   "outputs": [
    {
     "data": {
      "text/html": [
       "<div>\n",
       "<style scoped>\n",
       "    .dataframe tbody tr th:only-of-type {\n",
       "        vertical-align: middle;\n",
       "    }\n",
       "\n",
       "    .dataframe tbody tr th {\n",
       "        vertical-align: top;\n",
       "    }\n",
       "\n",
       "    .dataframe thead th {\n",
       "        text-align: right;\n",
       "    }\n",
       "</style>\n",
       "<table border=\"1\" class=\"dataframe\">\n",
       "  <thead>\n",
       "    <tr style=\"text-align: right;\">\n",
       "      <th></th>\n",
       "      <th>actual</th>\n",
       "      <th>lm_preds</th>\n",
       "      <th>lasso_preds</th>\n",
       "      <th>poly_preds</th>\n",
       "      <th>lasso_poly</th>\n",
       "      <th>tweedie</th>\n",
       "    </tr>\n",
       "  </thead>\n",
       "  <tbody>\n",
       "    <tr>\n",
       "      <th>31949</th>\n",
       "      <td>176411</td>\n",
       "      <td>176411.0</td>\n",
       "      <td>176427.534301</td>\n",
       "      <td>176411.0</td>\n",
       "      <td>192631.640362</td>\n",
       "      <td>198726.370533</td>\n",
       "    </tr>\n",
       "    <tr>\n",
       "      <th>51617</th>\n",
       "      <td>72444</td>\n",
       "      <td>72444.0</td>\n",
       "      <td>72467.501213</td>\n",
       "      <td>72444.0</td>\n",
       "      <td>96886.870786</td>\n",
       "      <td>81839.935855</td>\n",
       "    </tr>\n",
       "    <tr>\n",
       "      <th>42382</th>\n",
       "      <td>64630</td>\n",
       "      <td>64630.0</td>\n",
       "      <td>64660.411193</td>\n",
       "      <td>64630.0</td>\n",
       "      <td>112460.041466</td>\n",
       "      <td>150524.057352</td>\n",
       "    </tr>\n",
       "    <tr>\n",
       "      <th>7098</th>\n",
       "      <td>69894</td>\n",
       "      <td>69894.0</td>\n",
       "      <td>69923.187057</td>\n",
       "      <td>69894.0</td>\n",
       "      <td>118911.121820</td>\n",
       "      <td>145872.273439</td>\n",
       "    </tr>\n",
       "    <tr>\n",
       "      <th>43253</th>\n",
       "      <td>57978</td>\n",
       "      <td>57978.0</td>\n",
       "      <td>58009.376259</td>\n",
       "      <td>57978.0</td>\n",
       "      <td>107642.856389</td>\n",
       "      <td>149344.870277</td>\n",
       "    </tr>\n",
       "  </tbody>\n",
       "</table>\n",
       "</div>"
      ],
      "text/plain": [
       "       actual  lm_preds    lasso_preds  poly_preds     lasso_poly  \\\n",
       "31949  176411  176411.0  176427.534301    176411.0  192631.640362   \n",
       "51617   72444   72444.0   72467.501213     72444.0   96886.870786   \n",
       "42382   64630   64630.0   64660.411193     64630.0  112460.041466   \n",
       "7098    69894   69894.0   69923.187057     69894.0  118911.121820   \n",
       "43253   57978   57978.0   58009.376259     57978.0  107642.856389   \n",
       "\n",
       "             tweedie  \n",
       "31949  198726.370533  \n",
       "51617   81839.935855  \n",
       "42382  150524.057352  \n",
       "7098   145872.273439  \n",
       "43253  149344.870277  "
      ]
     },
     "execution_count": 63,
     "metadata": {},
     "output_type": "execute_result"
    }
   ],
   "source": [
    "preds_df['tweedie'] = tweedie.predict(X_train)\n",
    "preds_df.head()"
   ]
  },
  {
   "cell_type": "code",
   "execution_count": 64,
   "id": "50caa6fa",
   "metadata": {},
   "outputs": [
    {
     "data": {
      "text/plain": [
       "80045.49476047528"
      ]
     },
     "execution_count": 64,
     "metadata": {},
     "output_type": "execute_result"
    }
   ],
   "source": [
    "tweedie_norm = sqrt(mean_squared_error(preds_df['actual'], preds_df['tweedie']))\n",
    "tweedie_norm"
   ]
  },
  {
   "cell_type": "code",
   "execution_count": 65,
   "id": "8d64f6cc",
   "metadata": {},
   "outputs": [],
   "source": [
    "tweedie2 = TweedieRegressor(power=1)\n",
    "\n",
    "tweedie2.fit(X_train, y_train)\n",
    "preds_df['tweedie2'] = tweedie2.predict(X_train)"
   ]
  },
  {
   "cell_type": "code",
   "execution_count": 66,
   "id": "e3f58b1a",
   "metadata": {},
   "outputs": [
    {
     "data": {
      "text/plain": [
       "241147.15909396723"
      ]
     },
     "execution_count": 66,
     "metadata": {},
     "output_type": "execute_result"
    }
   ],
   "source": [
    "tweedie_poisson = sqrt(mean_squared_error(preds_df['actual'], preds_df['tweedie2']))\n",
    "tweedie_poisson"
   ]
  },
  {
   "cell_type": "code",
   "execution_count": 67,
   "id": "2525251c",
   "metadata": {},
   "outputs": [
    {
     "data": {
      "text/html": [
       "<div>\n",
       "<style scoped>\n",
       "    .dataframe tbody tr th:only-of-type {\n",
       "        vertical-align: middle;\n",
       "    }\n",
       "\n",
       "    .dataframe tbody tr th {\n",
       "        vertical-align: top;\n",
       "    }\n",
       "\n",
       "    .dataframe thead th {\n",
       "        text-align: right;\n",
       "    }\n",
       "</style>\n",
       "<table border=\"1\" class=\"dataframe\">\n",
       "  <thead>\n",
       "    <tr style=\"text-align: right;\">\n",
       "      <th></th>\n",
       "      <th>model</th>\n",
       "      <th>rmse</th>\n",
       "    </tr>\n",
       "  </thead>\n",
       "  <tbody>\n",
       "    <tr>\n",
       "      <th>0</th>\n",
       "      <td>linear</td>\n",
       "      <td>2.836600e-10</td>\n",
       "    </tr>\n",
       "    <tr>\n",
       "      <th>1</th>\n",
       "      <td>lasso</td>\n",
       "      <td>2.172510e+01</td>\n",
       "    </tr>\n",
       "    <tr>\n",
       "      <th>2</th>\n",
       "      <td>linear_poly</td>\n",
       "      <td>2.665285e-10</td>\n",
       "    </tr>\n",
       "    <tr>\n",
       "      <th>3</th>\n",
       "      <td>lasso_poly</td>\n",
       "      <td>2.534213e+04</td>\n",
       "    </tr>\n",
       "    <tr>\n",
       "      <th>4</th>\n",
       "      <td>tweedie_norm</td>\n",
       "      <td>8.004549e+04</td>\n",
       "    </tr>\n",
       "    <tr>\n",
       "      <th>5</th>\n",
       "      <td>tweedie_poisson</td>\n",
       "      <td>2.411472e+05</td>\n",
       "    </tr>\n",
       "  </tbody>\n",
       "</table>\n",
       "</div>"
      ],
      "text/plain": [
       "             model          rmse\n",
       "0           linear  2.836600e-10\n",
       "1            lasso  2.172510e+01\n",
       "2      linear_poly  2.665285e-10\n",
       "3       lasso_poly  2.534213e+04\n",
       "4     tweedie_norm  8.004549e+04\n",
       "5  tweedie_poisson  2.411472e+05"
      ]
     },
     "execution_count": 67,
     "metadata": {},
     "output_type": "execute_result"
    }
   ],
   "source": [
    "pd.DataFrame({'model': ['linear', 'lasso', 'linear_poly', 'lasso_poly', 'tweedie_norm', 'tweedie_poisson'],\n",
    "  'rmse': [lm_rmse, lasso_rmse, poly_rmse, lassopoly_rmse, tweedie_norm, tweedie_poisson]})"
   ]
  },
  {
   "cell_type": "code",
   "execution_count": 68,
   "id": "ad72f690",
   "metadata": {},
   "outputs": [
    {
     "data": {
      "text/html": [
       "<div>\n",
       "<style scoped>\n",
       "    .dataframe tbody tr th:only-of-type {\n",
       "        vertical-align: middle;\n",
       "    }\n",
       "\n",
       "    .dataframe tbody tr th {\n",
       "        vertical-align: top;\n",
       "    }\n",
       "\n",
       "    .dataframe thead th {\n",
       "        text-align: right;\n",
       "    }\n",
       "</style>\n",
       "<table border=\"1\" class=\"dataframe\">\n",
       "  <thead>\n",
       "    <tr style=\"text-align: right;\">\n",
       "      <th></th>\n",
       "      <th>actual</th>\n",
       "      <th>lm_preds</th>\n",
       "      <th>lasso_preds</th>\n",
       "      <th>poly_preds</th>\n",
       "      <th>lasso_poly</th>\n",
       "      <th>tweedie</th>\n",
       "      <th>tweedie2</th>\n",
       "      <th>baseline</th>\n",
       "    </tr>\n",
       "  </thead>\n",
       "  <tbody>\n",
       "    <tr>\n",
       "      <th>31949</th>\n",
       "      <td>176411</td>\n",
       "      <td>176411.0</td>\n",
       "      <td>176427.534301</td>\n",
       "      <td>176411.0</td>\n",
       "      <td>192631.640362</td>\n",
       "      <td>198726.370533</td>\n",
       "      <td>368639.775838</td>\n",
       "      <td>368639.775838</td>\n",
       "    </tr>\n",
       "    <tr>\n",
       "      <th>51617</th>\n",
       "      <td>72444</td>\n",
       "      <td>72444.0</td>\n",
       "      <td>72467.501213</td>\n",
       "      <td>72444.0</td>\n",
       "      <td>96886.870786</td>\n",
       "      <td>81839.935855</td>\n",
       "      <td>368639.775838</td>\n",
       "      <td>368639.775838</td>\n",
       "    </tr>\n",
       "    <tr>\n",
       "      <th>42382</th>\n",
       "      <td>64630</td>\n",
       "      <td>64630.0</td>\n",
       "      <td>64660.411193</td>\n",
       "      <td>64630.0</td>\n",
       "      <td>112460.041466</td>\n",
       "      <td>150524.057352</td>\n",
       "      <td>368639.775838</td>\n",
       "      <td>368639.775838</td>\n",
       "    </tr>\n",
       "    <tr>\n",
       "      <th>7098</th>\n",
       "      <td>69894</td>\n",
       "      <td>69894.0</td>\n",
       "      <td>69923.187057</td>\n",
       "      <td>69894.0</td>\n",
       "      <td>118911.121820</td>\n",
       "      <td>145872.273439</td>\n",
       "      <td>368639.775838</td>\n",
       "      <td>368639.775838</td>\n",
       "    </tr>\n",
       "    <tr>\n",
       "      <th>43253</th>\n",
       "      <td>57978</td>\n",
       "      <td>57978.0</td>\n",
       "      <td>58009.376259</td>\n",
       "      <td>57978.0</td>\n",
       "      <td>107642.856389</td>\n",
       "      <td>149344.870277</td>\n",
       "      <td>368639.775838</td>\n",
       "      <td>368639.775838</td>\n",
       "    </tr>\n",
       "  </tbody>\n",
       "</table>\n",
       "</div>"
      ],
      "text/plain": [
       "       actual  lm_preds    lasso_preds  poly_preds     lasso_poly  \\\n",
       "31949  176411  176411.0  176427.534301    176411.0  192631.640362   \n",
       "51617   72444   72444.0   72467.501213     72444.0   96886.870786   \n",
       "42382   64630   64630.0   64660.411193     64630.0  112460.041466   \n",
       "7098    69894   69894.0   69923.187057     69894.0  118911.121820   \n",
       "43253   57978   57978.0   58009.376259     57978.0  107642.856389   \n",
       "\n",
       "             tweedie       tweedie2       baseline  \n",
       "31949  198726.370533  368639.775838  368639.775838  \n",
       "51617   81839.935855  368639.775838  368639.775838  \n",
       "42382  150524.057352  368639.775838  368639.775838  \n",
       "7098   145872.273439  368639.775838  368639.775838  \n",
       "43253  149344.870277  368639.775838  368639.775838  "
      ]
     },
     "execution_count": 68,
     "metadata": {},
     "output_type": "execute_result"
    }
   ],
   "source": [
    "preds_df['baseline'] = y_train.mean()\n",
    "preds_df.head()"
   ]
  },
  {
   "cell_type": "code",
   "execution_count": 69,
   "id": "9dd87b2d",
   "metadata": {},
   "outputs": [
    {
     "data": {
      "text/plain": [
       "241147.15909396723"
      ]
     },
     "execution_count": 69,
     "metadata": {},
     "output_type": "execute_result"
    }
   ],
   "source": [
    "sqrt(mean_squared_error(preds_df['actual'], preds_df['baseline']))"
   ]
  },
  {
   "cell_type": "markdown",
   "id": "33e405f9",
   "metadata": {},
   "source": [
    "# Zillow 2017 Predictions\n",
    "\n",
    "# Project Description\n",
    "\n",
    "Like all businesses, Zillow wants to make a profit and keep the profit machine going. We will be looking into the Zillow 2017 transactions and will be able to help predict (with confidence) home values based on certain drivers, statisitical tests, and regression machine learning algorithms..\n",
    "\n",
    "# Project Goal\n",
    "\n",
    "- Discover drivers of Single Family home value for Zillow in 2017.\n",
    "- Use drivers to develop a machine learning model that accurately predicts home value\n",
    "- This information could be used for furture years in helping Zillow achieve max profit\n",
    "\n",
    "# Initial Thoughts\n",
    "\n",
    "- Does more square footage of a home equate more tax value?\n",
    "- Does the number of bathrooms affect number of bathrooms?\n",
    "- Does lot size affect tax value?\n",
    "- Does number of bedrooms have an affect on tax value?\n",
    "\n",
    "\n",
    "# The Plan\n",
    "\n",
    "- Acquire data from Sequel Ace database\n",
    "- Renamed columns to promote readability\n",
    "- Checked for nulls and outliers\n",
    "- Checked that data types were appropriate and changed what was necessary  \n",
    "- Split data into train/validate/test samples\n",
    "\n",
    "#### Explore data in search of drivers of home value\n",
    "\n",
    "##### Answer the following initial questions\n",
    "- Does more square footage of a home equate more tax value?\n",
    "- Does the number of bathrooms affect tax value?\n",
    "- Does lot size affect tax value?\n",
    "- Does the number of bedrooms affect tax value?\n",
    "\n",
    "# Data Dictionary\n",
    "\n",
    "| Feature | Definition |\n",
    "|:--------|:-----------|\n",
    "|bedroomcnt|Specifies the number of bedrooms in the home|\n",
    "|bathroomcnt|Specifies the number of bathrooms in the home|\n",
    "|calculatedfinishedsquarefeet|Specifies the total finished square footage of the home|\n",
    "|taxvaluedollarcnt|The total tax assessed value of the parcel|\n",
    "|lotsizesquarefeet|Specifies total square footage of lot the home sits on|\n",
    "|yearbuilt|Year that the home was built|\n",
    "\n",
    "# Steps to Reproduce\n",
    "\n",
    "- Clone this repo.\n",
    "- Acquire the data from Kaggle\n",
    "- Put the data in the file containing the cloned repo.\n",
    "- Run notebook.\n",
    "\n",
    "# Takeaways and Conclusions\n",
    "\n",
    "- Square feet, bedrooms, and bathrooms are all drivers to tax value\n",
    "- Higher bedroom count, higher bathroom count, and higher square footage amount all contribute to a higher tax value of a home\n",
    "\n",
    "\n",
    "# Recommendations\n",
    "\n",
    "- Push the homes with above average bedroom count and bathroom count\n",
    "- Push homes with above average home square footage"
   ]
  },
  {
   "cell_type": "code",
   "execution_count": null,
   "id": "1e42371a",
   "metadata": {},
   "outputs": [],
   "source": []
  },
  {
   "cell_type": "code",
   "execution_count": null,
   "id": "932c90d9",
   "metadata": {},
   "outputs": [],
   "source": []
  },
  {
   "cell_type": "code",
   "execution_count": null,
   "id": "8081829d",
   "metadata": {},
   "outputs": [],
   "source": []
  }
 ],
 "metadata": {
  "kernelspec": {
   "display_name": "Python 3 (ipykernel)",
   "language": "python",
   "name": "python3"
  },
  "language_info": {
   "codemirror_mode": {
    "name": "ipython",
    "version": 3
   },
   "file_extension": ".py",
   "mimetype": "text/x-python",
   "name": "python",
   "nbconvert_exporter": "python",
   "pygments_lexer": "ipython3",
   "version": "3.9.13"
  }
 },
 "nbformat": 4,
 "nbformat_minor": 5
}
